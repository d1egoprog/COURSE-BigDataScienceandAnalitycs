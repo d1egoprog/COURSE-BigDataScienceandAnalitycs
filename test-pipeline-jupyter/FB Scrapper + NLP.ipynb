{
 "cells": [
  {
   "cell_type": "code",
   "execution_count": 2,
   "metadata": {},
   "outputs": [],
   "source": [
    "from facebook_scraper import get_posts\n",
    "import csv\n",
    "import itertools\n",
    "import io\n",
    "from datetime import datetime\n",
    "\n",
    "csv_columns = ['post_id','text','time','image','images','likes','shares', 'post_url', 'user_id', 'video_id',\n",
    "               'video', 'shared_text','video_thumbnail', 'comments', 'post_text',\n",
    "               'link', 'year', 'month', 'day', 'hour', 'min']\n",
    "csv_file = \"FBOut.csv\"\n",
    "\n",
    "\n",
    "#11/11/2020  11:57:51 PM\n",
    "try:\n",
    "\twith io.open(csv_file, 'w', encoding=\"utf-8\") as csvfile:\n",
    "\t\twriter = csv.DictWriter(csvfile, fieldnames=csv_columns, delimiter='~')\n",
    "\t\twriter.writeheader()\n",
    "\t\tposts = get_posts('icetexcolombia', pages=20)\n",
    "\t\tfor post in posts:\n",
    "\t\t\t\n",
    "\t\t\tpost['text'] = post['text'].replace('\\n',' ')\n",
    "\t\t\tpost['post_text'] = post['post_text'].replace('\\n',' ')\n",
    "\t\t\tpost['shared_text'] = post['shared_text'].replace('\\n',' ')\n",
    "\n",
    "\t\t\td = post['time']\n",
    "\t\t\tpost['year'] = d.year\n",
    "\t\t\tpost['month'] = d.month\n",
    "\t\t\tpost['day'] = d.day\n",
    "\n",
    "\t\t\tpost['hour'] = d.hour\n",
    "\t\t\tpost['min'] = d.min\n",
    "\n",
    "\t\t\twriter.writerow(post)\n",
    "\n",
    "except IOError:\n",
    "\tprint(\"I/O error\")\n"
   ]
  },
  {
   "cell_type": "code",
   "execution_count": null,
   "metadata": {},
   "outputs": [],
   "source": []
  }
 ],
 "metadata": {
  "kernelspec": {
   "display_name": "Python 3",
   "language": "python",
   "name": "python3"
  },
  "language_info": {
   "codemirror_mode": {
    "name": "ipython",
    "version": 3
   },
   "file_extension": ".py",
   "mimetype": "text/x-python",
   "name": "python",
   "nbconvert_exporter": "python",
   "pygments_lexer": "ipython3",
   "version": "3.7.6"
  }
 },
 "nbformat": 4,
 "nbformat_minor": 4
}
